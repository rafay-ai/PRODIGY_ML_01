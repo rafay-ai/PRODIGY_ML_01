{
  "nbformat": 4,
  "nbformat_minor": 0,
  "metadata": {
    "colab": {
      "provenance": []
    },
    "kernelspec": {
      "name": "python3",
      "display_name": "Python 3"
    },
    "language_info": {
      "name": "python"
    }
  },
  "cells": [
    {
      "cell_type": "code",
      "execution_count": 2,
      "metadata": {
        "id": "HYuPyy97o6s4"
      },
      "outputs": [],
      "source": [
        "import numpy as np\n",
        "import pandas as pd\n",
        "import matplotlib.pyplot as plt\n",
        "import seaborn as sns"
      ]
    },
    {
      "cell_type": "code",
      "source": [
        "df =pd.read_csv(\"/content/train.csv\")"
      ],
      "metadata": {
        "id": "WWRYo0QEpji9"
      },
      "execution_count": null,
      "outputs": []
    },
    {
      "cell_type": "code",
      "source": [
        "df.head()"
      ],
      "metadata": {
        "id": "v8rsDn7hpxP4"
      },
      "execution_count": null,
      "outputs": []
    },
    {
      "cell_type": "code",
      "source": [
        "df['LotFrontage']=df['LotFrontage'].fillna(df['LotFrontage'].mean())"
      ],
      "metadata": {
        "id": "tLcqsFLQp1D8"
      },
      "execution_count": null,
      "outputs": []
    },
    {
      "cell_type": "code",
      "source": [
        "df.drop(['Alley'],axis=1,inplace=True)"
      ],
      "metadata": {
        "id": "FkoADnh3qaxd"
      },
      "execution_count": null,
      "outputs": []
    },
    {
      "cell_type": "code",
      "source": [
        "df['BsmtCond']=df['BsmtCond'].fillna(df['BsmtCond'].mode()[0])\n",
        "df['BsmtQual']=df['BsmtQual'].fillna(df['BsmtQual'].mode()[0])"
      ],
      "metadata": {
        "id": "UZxmc1c5qhep"
      },
      "execution_count": null,
      "outputs": []
    },
    {
      "cell_type": "code",
      "source": [
        "df['FireplaceQu']=df['FireplaceQu'].fillna(df['FireplaceQu'].mode()[0])\n",
        "df['GarageType']=df['GarageType'].fillna(df['GarageType'].mode()[0])"
      ],
      "metadata": {
        "id": "f7fMPZulqycU"
      },
      "execution_count": null,
      "outputs": []
    },
    {
      "cell_type": "code",
      "source": [
        "df.drop(['GarageType'],axis=1,inplace=True)"
      ],
      "metadata": {
        "id": "KJFyAte4q03i"
      },
      "execution_count": null,
      "outputs": []
    },
    {
      "cell_type": "code",
      "source": [
        "df['GarageFinish']=df['GarageFinish'].fillna(df['GarageFinish'].mode()[0])\n",
        "df['GarageQual']=df['GarageQual'].fillna(df['GarageQual'].mode()[0])\n",
        "df['GarageCond']=df['GarageCond'].fillna(df['GarageCond'].mode()[0])"
      ],
      "metadata": {
        "id": "HW_PgXQOq-U2"
      },
      "execution_count": null,
      "outputs": []
    },
    {
      "cell_type": "code",
      "source": [
        "df.drop(['PoolQC','Fence','MiscFeature'],axis=1,inplace = True)"
      ],
      "metadata": {
        "id": "AXexJEMOrrvj"
      },
      "execution_count": null,
      "outputs": []
    },
    {
      "cell_type": "code",
      "source": [
        "df.shape"
      ],
      "metadata": {
        "id": "sf74OuTtr30B"
      },
      "execution_count": null,
      "outputs": []
    },
    {
      "cell_type": "code",
      "source": [
        "df.drop(['Id'],axis=1,inplace= True )"
      ],
      "metadata": {
        "id": "klh_FuL5r471"
      },
      "execution_count": null,
      "outputs": []
    },
    {
      "cell_type": "code",
      "source": [
        "df.isnull().sum()"
      ],
      "metadata": {
        "id": "aSwS_-K8sQr0"
      },
      "execution_count": null,
      "outputs": []
    },
    {
      "cell_type": "code",
      "source": [
        "df['MasVnrType']=df['MasVnrType'].fillna(df['MasVnrType'].mode()[0])\n",
        "df['MasVnrArea']=df['MasVnrArea'].fillna(df['MasVnrArea'].mode()[0])"
      ],
      "metadata": {
        "id": "KkALv5wmsW9j"
      },
      "execution_count": null,
      "outputs": []
    },
    {
      "cell_type": "code",
      "source": [
        "df['BsmtExposure']=df['BsmtExposure'].fillna(df['BsmtExposure'].mode()[0])"
      ],
      "metadata": {
        "id": "37tPPwTksf04"
      },
      "execution_count": null,
      "outputs": []
    },
    {
      "cell_type": "code",
      "source": [
        "sns.heatmap(df.isnull(),yticklabels=False,cbar=False,cmap='viridis')"
      ],
      "metadata": {
        "id": "iMXeXZkjsr0l"
      },
      "execution_count": null,
      "outputs": []
    },
    {
      "cell_type": "code",
      "source": [
        "df['BsmtFinType2']=df['BsmtFinType2'].fillna(df['BsmtFinType2'].mode()[0])"
      ],
      "metadata": {
        "id": "ooLCVaDfsuPj"
      },
      "execution_count": null,
      "outputs": []
    },
    {
      "cell_type": "code",
      "source": [
        "df['BsmtFinType1']=df['BsmtFinType1'].fillna(df['BsmtFinType1'].mode()[0])"
      ],
      "metadata": {
        "id": "n2nHugUJs4hF"
      },
      "execution_count": null,
      "outputs": []
    },
    {
      "cell_type": "code",
      "source": [
        "df['GarageFinish']=df['GarageFinish'].fillna(df['GarageFinish'].mode()[0])\n",
        "df['GarageQual']=df['GarageQual'].fillna(df['GarageQual'].mode()[0])\n",
        "df['GarageCond']=df['GarageCond'].fillna(df['GarageCond'].mode()[0])"
      ],
      "metadata": {
        "id": "Ili2a2w-s7YK"
      },
      "execution_count": null,
      "outputs": []
    },
    {
      "cell_type": "code",
      "source": [
        "df['Fireplaces']=df['Fireplaces'].fillna(df['Fireplaces'].mode()[0])\n",
        "df['GarageCars']=df['GarageCars'].fillna(df['GarageCars'].mode()[0])"
      ],
      "metadata": {
        "id": "59MAYOTstAlg"
      },
      "execution_count": null,
      "outputs": []
    },
    {
      "cell_type": "code",
      "source": [
        "df.columns"
      ],
      "metadata": {
        "id": "e2J8BgM9tJ61"
      },
      "execution_count": null,
      "outputs": []
    },
    {
      "cell_type": "code",
      "source": [
        "df.isnull().count()"
      ],
      "metadata": {
        "id": "fwZaXT1HtSi-"
      },
      "execution_count": null,
      "outputs": []
    },
    {
      "cell_type": "code",
      "source": [
        "df.dropna(inplace=True)"
      ],
      "metadata": {
        "id": "XOnbeEodtUyc"
      },
      "execution_count": null,
      "outputs": []
    },
    {
      "cell_type": "code",
      "source": [
        "sns.heatmap(df.isnull(),yticklabels=False,cbar=False,cmap='viridis')"
      ],
      "metadata": {
        "id": "Fhr-59SptcyI"
      },
      "execution_count": null,
      "outputs": []
    },
    {
      "cell_type": "code",
      "source": [
        "columns=['MSZoning','Street','LotShape','BldgType','LandContour','Utilities','LotConfig','LandSlope','Neighborhood','Condition2','Condition1','HouseStyle','SaleType','SaleCondition','ExterCond','ExterQual','Foundation','BsmtQual','BsmtCond','BsmtExposure','BsmtFinType1','BsmtFinType2','RoofStyle','RoofMatl','Exterior1st','Exterior2nd','MasVnrType','Heating',\n",
        "'HeatingQC','CentralAir','Electrical','KitchenQual','Functional','FireplaceQu','GarageType','GarageFinish','GarageQual','GarageCond','PavedDrive']"
      ],
      "metadata": {
        "id": "xOR-WJQoteLI"
      },
      "execution_count": null,
      "outputs": []
    },
    {
      "cell_type": "code",
      "source": [
        "def category_onehot_multcols(multcolumns):\n",
        "    df_final=final_df\n",
        "    i=0\n",
        "    for fields in multcolumns:\n",
        "\n",
        "        print(fields)\n",
        "        df1=pd.get_dummies(final_df[fields],drop_first=True)\n",
        "\n",
        "        final_df.drop([fields],axis=1,inplace=True)\n",
        "        if i==0:\n",
        "            df_final=df1.copy()\n",
        "        else:\n",
        "            df_final=pd.concat([df_final,df1],axis=1)\n",
        "        i=i+1\n",
        "\n",
        "\n",
        "    df_final=pd.concat([final_df,df_final],axis=1)\n",
        "\n",
        "    return df_final"
      ],
      "metadata": {
        "id": "M9W6Q_lSu84P"
      },
      "execution_count": null,
      "outputs": []
    },
    {
      "cell_type": "code",
      "source": [
        "main_df=df.copy()"
      ],
      "metadata": {
        "id": "dO7Eks85vM7d"
      },
      "execution_count": null,
      "outputs": []
    },
    {
      "cell_type": "code",
      "source": [
        "## Combine Test Data\n",
        "\n",
        "test_df=pd.read_csv('formulatedtest.csv')\n"
      ],
      "metadata": {
        "id": "57GpItMOxCq1"
      },
      "execution_count": null,
      "outputs": []
    },
    {
      "cell_type": "code",
      "source": [
        "final_df=pd.concat([df,test_df],axis=0)"
      ],
      "metadata": {
        "id": "X_Kr6MdHyApw"
      },
      "execution_count": null,
      "outputs": []
    },
    {
      "cell_type": "code",
      "source": [
        "df.columns"
      ],
      "metadata": {
        "id": "JVfDghfjywdN"
      },
      "execution_count": null,
      "outputs": []
    },
    {
      "cell_type": "code",
      "source": [
        "final_df=category_onehot_multcols(columns)"
      ],
      "metadata": {
        "id": "vpbDKUZGyNMR"
      },
      "execution_count": null,
      "outputs": []
    },
    {
      "cell_type": "code",
      "source": [
        "final_df=final_df.loc[:,~final_df.columns.duplicated()]"
      ],
      "metadata": {
        "id": "ttrzUhGZzbs8"
      },
      "execution_count": null,
      "outputs": []
    },
    {
      "cell_type": "code",
      "source": [
        "final_df.shape"
      ],
      "metadata": {
        "id": "6iCUBXZczlOs"
      },
      "execution_count": null,
      "outputs": []
    },
    {
      "cell_type": "code",
      "source": [
        "df_train=final_df.iloc[:1460,:]\n",
        "df_test=final_df.iloc[1460:,:]"
      ],
      "metadata": {
        "id": "1SnpYjmZzzWA"
      },
      "execution_count": null,
      "outputs": []
    },
    {
      "cell_type": "code",
      "source": [
        "df_test.drop(['SalePrice'],axis=1,inplace=True)"
      ],
      "metadata": {
        "id": "g4bYOLMhz3Vs"
      },
      "execution_count": null,
      "outputs": []
    },
    {
      "cell_type": "code",
      "source": [
        "X_train=df_train.drop(['SalePrice'],axis=1)\n",
        "y_train=df_train['SalePrice']"
      ],
      "metadata": {
        "id": "ephQe5Qa0BeM"
      },
      "execution_count": null,
      "outputs": []
    },
    {
      "cell_type": "code",
      "source": [
        "y_train = y_train.replace([np.inf, -np.inf], np.nan)  # Replace infinities with NaN\n",
        "y_train = y_train.fillna(y_train.mean())"
      ],
      "metadata": {
        "id": "sfaN0QHd1J6J"
      },
      "execution_count": null,
      "outputs": []
    },
    {
      "cell_type": "code",
      "source": [
        "import xgboost\n",
        "classifier=xgboost.XGBRegressor()\n",
        "classifier.fit(X_train,y_train)"
      ],
      "metadata": {
        "id": "_yIxIeTF0Ds_"
      },
      "execution_count": null,
      "outputs": []
    },
    {
      "cell_type": "code",
      "source": [
        "y_pred=classifier.predict(df_test)"
      ],
      "metadata": {
        "id": "g20iJMKj0J95"
      },
      "execution_count": null,
      "outputs": []
    },
    {
      "cell_type": "code",
      "source": [
        "y_pred"
      ],
      "metadata": {
        "id": "mCeTrAQl1bNa"
      },
      "execution_count": null,
      "outputs": []
    },
    {
      "cell_type": "code",
      "source": [
        "pred=pd.DataFrame(y_pred)\n",
        "sub_df=pd.read_csv('/content/submission.csv')\n",
        "datasets=pd.concat([sub_df['Id'],pred],axis=1)\n",
        "datasets.columns=['Id','SalePrice']\n",
        "datasets.to_csv('submission8.csv',index=False)"
      ],
      "metadata": {
        "id": "wvIz6H-b1hLQ"
      },
      "execution_count": null,
      "outputs": []
    },
    {
      "cell_type": "code",
      "source": [
        "test_df=pd.read_csv(\"/content/test.csv\")"
      ],
      "metadata": {
        "id": "A9ULRNcJvQYh"
      },
      "execution_count": null,
      "outputs": []
    },
    {
      "cell_type": "code",
      "source": [
        "dff=pd.read_csv('/content/formulatedtest.csv')\n",
        "dff.head()"
      ],
      "metadata": {
        "id": "5i5hXOBlyUzj"
      },
      "execution_count": null,
      "outputs": []
    },
    {
      "cell_type": "code",
      "source": [
        "test_df['LotFrontage']=test_df['LotFrontage'].fillna(test_df['LotFrontage'].mean())"
      ],
      "metadata": {
        "id": "EeTjstVqvUpi"
      },
      "execution_count": null,
      "outputs": []
    },
    {
      "cell_type": "code",
      "source": [
        "test_df['MSZoning']=test_df['MSZoning'].fillna(test_df['MSZoning'].mode()[0])"
      ],
      "metadata": {
        "id": "E_wP50VIwaeD"
      },
      "execution_count": null,
      "outputs": []
    },
    {
      "cell_type": "code",
      "source": [
        "test_df.drop(['Alley'],axis=1,inplace=True)"
      ],
      "metadata": {
        "id": "UNC_peHswcF9"
      },
      "execution_count": null,
      "outputs": []
    },
    {
      "cell_type": "code",
      "source": [
        "test_df['BsmtCond']=test_df['BsmtCond'].fillna(test_df['BsmtCond'].mode()[0])\n",
        "test_df['BsmtQual']=test_df['BsmtQual'].fillna(test_df['BsmtQual'].mode()[0])"
      ],
      "metadata": {
        "id": "v3JnBujMwd_F"
      },
      "execution_count": null,
      "outputs": []
    },
    {
      "cell_type": "code",
      "source": [
        "test_df.drop(['GarageYrBlt'],axis=1,inplace=True)"
      ],
      "metadata": {
        "id": "nZLx8ycLwf5x"
      },
      "execution_count": null,
      "outputs": []
    },
    {
      "cell_type": "code",
      "source": [
        "test_df['GarageFinish']=test_df['GarageFinish'].fillna(test_df['GarageFinish'].mode()[0])\n",
        "test_df['GarageQual']=test_df['GarageQual'].fillna(test_df['GarageQual'].mode()[0])\n",
        "test_df['GarageCond']=test_df['GarageCond'].fillna(test_df['GarageCond'].mode()[0])\n",
        "\n",
        "test_df.drop(['PoolQC','Fence','MiscFeature'],axis=1,inplace=True)"
      ],
      "metadata": {
        "id": "YHWkLagGwiU6"
      },
      "execution_count": null,
      "outputs": []
    },
    {
      "cell_type": "code",
      "source": [
        "test_df.drop(['Id'],axis=1,inplace=True)"
      ],
      "metadata": {
        "id": "4VHxK3xTwkBp"
      },
      "execution_count": null,
      "outputs": []
    },
    {
      "cell_type": "code",
      "source": [
        "test_df['MasVnrType']=test_df['MasVnrType'].fillna(test_df['MasVnrType'].mode()[0])\n",
        "test_df['MasVnrArea']=test_df['MasVnrArea'].fillna(test_df['MasVnrArea'].mode()[0])"
      ],
      "metadata": {
        "id": "w0_iGCcZwlqo"
      },
      "execution_count": null,
      "outputs": []
    },
    {
      "cell_type": "code",
      "source": [
        "sns.heatmap(test_df.isnull(),yticklabels=False,cbar=False,cmap='viridis')"
      ],
      "metadata": {
        "id": "y4EgQ02Rwm57"
      },
      "execution_count": null,
      "outputs": []
    },
    {
      "cell_type": "code",
      "source": [
        "test_df['BsmtExposure']=test_df['BsmtExposure'].fillna(test_df['BsmtExposure'].mode()[0])"
      ],
      "metadata": {
        "id": "SCdji_uXwoVb"
      },
      "execution_count": null,
      "outputs": []
    },
    {
      "cell_type": "code",
      "source": [
        "sns.heatmap(test_df.isnull(),yticklabels=False,cbar=False,cmap='viridis')"
      ],
      "metadata": {
        "id": "Maio9iaTwrcb"
      },
      "execution_count": null,
      "outputs": []
    },
    {
      "cell_type": "code",
      "source": [
        "test_df['BsmtFinType2']=test_df['BsmtFinType2'].fillna(test_df['BsmtFinType2'].mode()[0])"
      ],
      "metadata": {
        "id": "vq0-R1QAwtSy"
      },
      "execution_count": null,
      "outputs": []
    },
    {
      "cell_type": "code",
      "source": [
        "test_df['BsmtFinType2']=test_df['BsmtFinType2'].fillna(test_df['BsmtFinType2'].mode()[0])"
      ],
      "metadata": {
        "id": "tTHKM9YCwwYm"
      },
      "execution_count": null,
      "outputs": []
    },
    {
      "cell_type": "code",
      "source": [
        "test_df['Utilities']=test_df['Utilities'].fillna(test_df['Utilities'].mode()[0])\n",
        "test_df['Exterior1st']=test_df['Exterior1st'].fillna(test_df['Exterior1st'].mode()[0])\n",
        "test_df['Exterior2nd']=test_df['Exterior2nd'].fillna(test_df['Exterior2nd'].mode()[0])\n",
        "test_df['BsmtFinType1']=test_df['BsmtFinType1'].fillna(test_df['BsmtFinType1'].mode()[0])\n",
        "test_df['BsmtFinSF1']=test_df['BsmtFinSF1'].fillna(test_df['BsmtFinSF1'].mean())\n",
        "test_df['BsmtFinSF2']=test_df['BsmtFinSF2'].fillna(test_df['BsmtFinSF2'].mean())\n",
        "test_df['BsmtUnfSF']=test_df['BsmtUnfSF'].fillna(test_df['BsmtUnfSF'].mean())\n",
        "test_df['TotalBsmtSF']=test_df['TotalBsmtSF'].fillna(test_df['TotalBsmtSF'].mean())\n",
        "test_df['BsmtFullBath']=test_df['BsmtFullBath'].fillna(test_df['BsmtFullBath'].mode()[0])\n",
        "test_df['BsmtHalfBath']=test_df['BsmtHalfBath'].fillna(test_df['BsmtHalfBath'].mode()[0])\n",
        "test_df['KitchenQual']=test_df['KitchenQual'].fillna(test_df['KitchenQual'].mode()[0])\n",
        "test_df['Functional']=test_df['Functional'].fillna(test_df['Functional'].mode()[0])\n",
        "test_df['GarageCars']=test_df['GarageCars'].fillna(test_df['GarageCars'].mean())\n",
        "test_df['GarageArea']=test_df['GarageArea'].fillna(test_df['GarageArea'].mean())\n",
        "test_df['SaleType']=test_df['SaleType'].fillna(test_df['SaleType'].mode()[0])\n"
      ],
      "metadata": {
        "id": "DtJ1KS1uwyXS"
      },
      "execution_count": null,
      "outputs": []
    },
    {
      "cell_type": "code",
      "source": [
        "test_df.to_csv('formulatedtest.csv',index=False)"
      ],
      "metadata": {
        "id": "SH6j5xjhw0m2"
      },
      "execution_count": null,
      "outputs": []
    },
    {
      "cell_type": "code",
      "source": [],
      "metadata": {
        "id": "m9y08fugxnk1"
      },
      "execution_count": null,
      "outputs": []
    }
  ]
}